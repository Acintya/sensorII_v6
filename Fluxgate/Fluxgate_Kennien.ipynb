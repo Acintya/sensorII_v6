{
 "cells": [
  {
   "cell_type": "code",
   "execution_count": 44,
   "metadata": {},
   "outputs": [],
   "source": [
    "import numpy as np\n",
    "import pandas as pd\n",
    "import matplotlib.pyplot as plt\n",
    "from sklearn.linear_model import LinearRegression"
   ]
  },
  {
   "cell_type": "code",
   "execution_count": 49,
   "metadata": {},
   "outputs": [],
   "source": [
    "# load the data\n",
    "fluxgateKennlinien = np.loadtxt('Spulenkonstante.lvm')\n",
    "dfFluxgateKennlinien\n",
    "\n",
    "# select the data which its output voltage is between -10 and +10 volt\n",
    "fluxgateKennlinien = fluxgateKennlinien[np.where(fluxgateKennlinien[:,1]<=10)]\n",
    "fluxgateKennlinien = fluxgateKennlinien[np.where(fluxgateKennlinien[:,1]>=-10)]\n",
    "dfFluxgateKennlinien=pd.DataFrame({'x_Strom': fluxgateKennlinien[:,0],\n",
    "                                   'y_Ausgangsspannung': fluxgateKennlinien[:,1]})"
   ]
  },
  {
   "cell_type": "code",
   "execution_count": 46,
   "metadata": {},
   "outputs": [
    {
     "name": "stdout",
     "output_type": "stream",
     "text": [
      "model score:  0.9999999735889319\n",
      "coefficient:  [[-0.09685204]]\n",
      "intercept:  [-0.00815395]\n"
     ]
    }
   ],
   "source": [
    "# define the linear regression model and fit the model with selected data\n",
    "lrModel = LinearRegression()\n",
    "x = dfFluxgateKennlinien['x_Strom'].values.reshape(-1, 1)\n",
    "y = dfFluxgateKennlinien['y_Ausgangsspannung'].values.reshape(-1, 1)\n",
    "lrModel.fit(x,y)\n",
    "\n",
    "#\n",
    "\n",
    "print('model score: ', lrModel.score(x, y))\n",
    "print('coefficient: ', lrModel.coef_ )\n",
    "print('intercept: ', lrModel.intercept_)"
   ]
  },
  {
   "cell_type": "code",
   "execution_count": 50,
   "metadata": {},
   "outputs": [
    {
     "data": {
      "image/png": "[encoded data removed]",
      "text/plain": [
       "<Figure size 432x288 with 1 Axes>"
      ]
     },
     "metadata": {},
     "output_type": "display_data"
    }
   ],
   "source": [
    "plt.figure()\n",
    "plt.grid()\n",
    "# plot the original data as blue points\n",
    "plt.scatter(fluxgateUI[:,0], fluxgateUI[:,1], alpha=0.6)\n",
    "\n",
    "# plot the data from fitted model as red line\n",
    "predicts = lrModel.predict(x)\n",
    "plt.plot(fluxgateUIxxx[:,0], predicts, color = 'r', alpha=0.6)\n",
    "\n",
    "plt.xlabel('Strom in mA')\n",
    "plt.ylabel('Ausgangsspannung in V')\n",
    "plt.savefig('plt.eps', format = 'eps', dpi = 100)\n",
    "plt.show()"
   ]
  },
  {
   "cell_type": "code",
   "execution_count": null,
   "metadata": {
    "collapsed": true
   },
   "outputs": [],
   "source": []
  }
 ],
 "metadata": {
  "kernelspec": {
   "display_name": "Python 3",
   "language": "python",
   "name": "python3"
  },
  "language_info": {
   "codemirror_mode": {
    "name": "ipython",
    "version": 3
   },
   "file_extension": ".py",
   "mimetype": "text/x-python",
   "name": "python",
   "nbconvert_exporter": "python",
   "pygments_lexer": "ipython3",
   "version": "3.6.3"
  }
 },
 "nbformat": 4,
 "nbformat_minor": 2
}
